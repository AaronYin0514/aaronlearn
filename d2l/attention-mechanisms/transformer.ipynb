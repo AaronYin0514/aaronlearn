{
 "cells": [
  {
   "cell_type": "markdown",
   "metadata": {},
   "source": [
    "## Transformer"
   ]
  },
  {
   "cell_type": "markdown",
   "metadata": {},
   "source": [
    "transformer架构\n",
    "\n",
    "![](https://zh-v2.d2l.ai/_images/transformer.svg)"
   ]
  },
  {
   "cell_type": "code",
   "execution_count": 1,
   "metadata": {},
   "outputs": [],
   "source": [
    "import sys\n",
    "sys.path.append('..')\n",
    "import math\n",
    "import pandas as pd\n",
    "import torch\n",
    "from torch import nn\n",
    "import d2l"
   ]
  },
  {
   "cell_type": "code",
   "execution_count": 2,
   "metadata": {},
   "outputs": [],
   "source": [
    "class PositionWiseFFN(nn.Module):\n",
    "  '''基于位置的前馈网络'''\n",
    "  def __init__(self, ffn_num_input, ffn_num_hiddens, ffn_num_outputs):\n",
    "    super().__init__()\n",
    "    self.dense1 = nn.Linear(ffn_num_input, ffn_num_hiddens)\n",
    "    self.relu = nn.ReLU()\n",
    "    self.dense2 = nn.Linear(ffn_num_hiddens, ffn_num_outputs)\n",
    "  \n",
    "  def forward(self, X):\n",
    "    return self.dense2(self.relu(self.dense1(X)))\n"
   ]
  },
  {
   "cell_type": "code",
   "execution_count": 3,
   "metadata": {},
   "outputs": [
    {
     "data": {
      "text/plain": [
       "tensor([[-0.0956, -0.1658, -0.8312, -0.0336,  0.7260,  0.4568, -0.3645, -0.3293],\n",
       "        [-0.0956, -0.1658, -0.8312, -0.0336,  0.7260,  0.4568, -0.3645, -0.3293],\n",
       "        [-0.0956, -0.1658, -0.8312, -0.0336,  0.7260,  0.4568, -0.3645, -0.3293]],\n",
       "       grad_fn=<SelectBackward0>)"
      ]
     },
     "execution_count": 3,
     "metadata": {},
     "output_type": "execute_result"
    }
   ],
   "source": [
    "ffn = PositionWiseFFN(4, 4, 8)\n",
    "ffn.eval()\n",
    "ffn(torch.ones((2, 3, 4)))[0]"
   ]
  },
  {
   "cell_type": "markdown",
   "metadata": {},
   "source": [
    "### 残差连接和层规范化"
   ]
  },
  {
   "cell_type": "markdown",
   "metadata": {},
   "source": [
    "层规范化是基于特征维度进行规范化。在自然语言处理任务中（输入通常是变长序列）层规范化的效果好"
   ]
  },
  {
   "cell_type": "code",
   "execution_count": 4,
   "metadata": {},
   "outputs": [
    {
     "name": "stdout",
     "output_type": "stream",
     "text": [
      "layer notrm: tensor([[-1.0000,  1.0000],\n",
      "        [-1.0000,  1.0000]], grad_fn=<NativeLayerNormBackward0>) \n",
      "batch norm: tensor([[-1.0000, -1.0000],\n",
      "        [ 1.0000,  1.0000]], grad_fn=<NativeBatchNormBackward0>)\n"
     ]
    }
   ],
   "source": [
    "ln = nn.LayerNorm(2)\n",
    "bn = nn.BatchNorm1d(2)\n",
    "X = torch.tensor([[1, 2], [2, 3]], dtype=torch.float32)\n",
    "# 在训练模式下计算X的均值和方差\n",
    "print('layer notrm:', ln(X), '\\nbatch norm:', bn(X))"
   ]
  },
  {
   "cell_type": "code",
   "execution_count": 6,
   "metadata": {},
   "outputs": [],
   "source": [
    "class AddNorm(nn.Module):\n",
    "  '''残差连接后进行层规范化'''\n",
    "  def __init__(self, normalized_shape, dropout):\n",
    "    super().__init__()\n",
    "    self.dropout = nn.Dropout(dropout)\n",
    "    self.ln = nn.LayerNorm(normalized_shape)\n",
    "  \n",
    "  def forward(self, X, Y):\n",
    "    return self.ln(self.dropout(Y) + X)"
   ]
  },
  {
   "cell_type": "markdown",
   "metadata": {},
   "source": [
    "残差连接要求两个输入的形状相同，以便加法操作后输出张量的形状相同。"
   ]
  },
  {
   "cell_type": "code",
   "execution_count": 7,
   "metadata": {},
   "outputs": [
    {
     "data": {
      "text/plain": [
       "torch.Size([2, 3, 4])"
      ]
     },
     "execution_count": 7,
     "metadata": {},
     "output_type": "execute_result"
    }
   ],
   "source": [
    "add_norm = AddNorm([3, 4], 0.5)\n",
    "add_norm.eval()\n",
    "add_norm(torch.ones((2, 3, 4)), torch.ones((2, 3, 4))).shape"
   ]
  },
  {
   "cell_type": "markdown",
   "metadata": {},
   "source": [
    "### 编码器"
   ]
  },
  {
   "cell_type": "code",
   "execution_count": null,
   "metadata": {},
   "outputs": [],
   "source": [
    "class EncoderBlock(nn.Module):\n",
    "  '''Transformer编码器块'''\n",
    "  def __init__(self, key_size, query_size, value_size, num_hiddens, norm_shape, ffn_num_input, ffn_num_hiddens, num_heads, dropout, use_bias=False):\n",
    "    super().__init__()\n",
    "    self.attention = d2l.MultiHeadAttention(\n",
    "      key_size, query_size, value_size, num_hiddens, num_heads, dropout, use_bias\n",
    "    )\n",
    "    self.add"
   ]
  }
 ],
 "metadata": {
  "kernelspec": {
   "display_name": "Python 3",
   "language": "python",
   "name": "python3"
  },
  "language_info": {
   "codemirror_mode": {
    "name": "ipython",
    "version": 3
   },
   "file_extension": ".py",
   "mimetype": "text/x-python",
   "name": "python",
   "nbconvert_exporter": "python",
   "pygments_lexer": "ipython3",
   "version": "3.12.4"
  }
 },
 "nbformat": 4,
 "nbformat_minor": 2
}
