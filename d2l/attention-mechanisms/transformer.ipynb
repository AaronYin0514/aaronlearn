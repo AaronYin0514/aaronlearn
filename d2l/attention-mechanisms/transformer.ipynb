{
 "cells": [
  {
   "cell_type": "markdown",
   "metadata": {},
   "source": [
    "## Transformer"
   ]
  },
  {
   "cell_type": "markdown",
   "metadata": {},
   "source": [
    "transformer架构\n",
    "\n",
    "![](https://zh-v2.d2l.ai/_images/transformer.svg)"
   ]
  },
  {
   "cell_type": "code",
   "execution_count": 1,
   "metadata": {},
   "outputs": [],
   "source": [
    "import sys\n",
    "sys.path.append('..')\n",
    "import math\n",
    "import pandas as pd\n",
    "import torch\n",
    "from torch import nn"
   ]
  },
  {
   "cell_type": "code",
   "execution_count": 2,
   "metadata": {},
   "outputs": [],
   "source": [
    "class PositionWiseFFN(nn.Module):\n",
    "  '''基于位置的前馈网络'''\n",
    "  def __init__(self, ffn_num_input, ffn_num_hiddens, ffn_num_outputs):\n",
    "    super().__init__()\n",
    "    self.dense1 = nn.Linear(ffn_num_input, ffn_num_hiddens)\n",
    "    self.relu = nn.ReLU()\n",
    "    self.dense2 = nn.Linear(ffn_num_hiddens, ffn_num_outputs)\n",
    "  \n",
    "  def forward(self, X):\n",
    "    return self.dense2(self.relu(self.dense1(X)))\n"
   ]
  },
  {
   "cell_type": "code",
   "execution_count": 3,
   "metadata": {},
   "outputs": [
    {
     "data": {
      "text/plain": [
       "tensor([[ 0.2505,  0.0051,  0.1110,  0.1690, -0.1828,  0.2177,  0.0635, -0.0749],\n",
       "        [ 0.2505,  0.0051,  0.1110,  0.1690, -0.1828,  0.2177,  0.0635, -0.0749],\n",
       "        [ 0.2505,  0.0051,  0.1110,  0.1690, -0.1828,  0.2177,  0.0635, -0.0749]],\n",
       "       grad_fn=<SelectBackward0>)"
      ]
     },
     "execution_count": 3,
     "metadata": {},
     "output_type": "execute_result"
    }
   ],
   "source": [
    "ffn = PositionWiseFFN(4, 4, 8)\n",
    "ffn.eval()\n",
    "ffn(torch.ones((2, 3, 4)))[0]"
   ]
  }
 ],
 "metadata": {
  "kernelspec": {
   "display_name": "Python 3",
   "language": "python",
   "name": "python3"
  },
  "language_info": {
   "codemirror_mode": {
    "name": "ipython",
    "version": 3
   },
   "file_extension": ".py",
   "mimetype": "text/x-python",
   "name": "python",
   "nbconvert_exporter": "python",
   "pygments_lexer": "ipython3",
   "version": "3.12.4"
  }
 },
 "nbformat": 4,
 "nbformat_minor": 2
}
