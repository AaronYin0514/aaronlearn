{
 "cells": [
  {
   "cell_type": "markdown",
   "metadata": {},
   "source": [
    "## 循环神经网络"
   ]
  },
  {
   "cell_type": "markdown",
   "metadata": {},
   "source": [
    "隐藏层：\n",
    "\n",
    "$H_t = \\phi(X_tW_{xh} + H_{t-1}W_{hh} + b_h)$\n",
    "\n",
    "输出层：\n",
    "\n",
    "$O_t = H_tW_{hq} + b_q$\n",
    "\n",
    "![rnn.svg](https://zh-v2.d2l.ai/_images/rnn.svg)"
   ]
  },
  {
   "cell_type": "markdown",
   "metadata": {},
   "source": [
    "隐状态中$X_tW_{xh} + H_{t-1}W_{hh}$的计算，相当于$X_t$和$H_{t-1}$的拼接与$X_{xh}$和$X_{hh}$的拼接的矩阵乘法。\n",
    "\n",
    "⚠️：有时间可以数学证明一下，下面是测试"
   ]
  },
  {
   "cell_type": "code",
   "execution_count": 2,
   "metadata": {},
   "outputs": [
    {
     "data": {
      "text/plain": [
       "tensor([[ 3.5362,  3.9097, -3.6917,  0.3461],\n",
       "        [-1.0126, -2.6067,  2.9770,  1.4794],\n",
       "        [-1.6320,  0.6334, -1.9842,  2.3880]])"
      ]
     },
     "execution_count": 2,
     "metadata": {},
     "output_type": "execute_result"
    }
   ],
   "source": [
    "import sys\n",
    "sys.path.append('..')\n",
    "import torch\n",
    "import d2l\n",
    "\n",
    "X, W_xh = torch.normal(0, 1, (3, 1)), torch.normal(0, 1, (1, 4)) \n",
    "H, W_hh = torch.normal(0, 1, (3, 4)), torch.normal(0, 1, (4, 4))\n",
    "torch.matmul(X, W_xh) + torch.matmul(H, W_hh)"
   ]
  },
  {
   "cell_type": "code",
   "execution_count": 3,
   "metadata": {},
   "outputs": [
    {
     "data": {
      "text/plain": [
       "tensor([[ 3.5362,  3.9097, -3.6917,  0.3461],\n",
       "        [-1.0126, -2.6067,  2.9770,  1.4794],\n",
       "        [-1.6320,  0.6334, -1.9842,  2.3880]])"
      ]
     },
     "execution_count": 3,
     "metadata": {},
     "output_type": "execute_result"
    }
   ],
   "source": [
    "torch.matmul(torch.cat((X, H), 1), torch.cat((W_xh, W_hh), 0))"
   ]
  }
 ],
 "metadata": {
  "kernelspec": {
   "display_name": "Python 3",
   "language": "python",
   "name": "python3"
  },
  "language_info": {
   "codemirror_mode": {
    "name": "ipython",
    "version": 3
   },
   "file_extension": ".py",
   "mimetype": "text/x-python",
   "name": "python",
   "nbconvert_exporter": "python",
   "pygments_lexer": "ipython3",
   "version": "3.12.4"
  }
 },
 "nbformat": 4,
 "nbformat_minor": 2
}
