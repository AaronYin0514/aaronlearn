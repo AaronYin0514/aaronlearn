{
 "cells": [
  {
   "cell_type": "markdown",
   "metadata": {},
   "source": [
    "## 序列到序列学习（seq2seq）"
   ]
  },
  {
   "cell_type": "markdown",
   "metadata": {},
   "source": [
    "使用循环神经网络编码器和循环神经网络解码器的序列到序列学习\n",
    "\n",
    "![seq2seq.svg](https://zh.d2l.ai/_images/seq2seq.svg)"
   ]
  },
  {
   "cell_type": "code",
   "execution_count": 1,
   "metadata": {},
   "outputs": [],
   "source": [
    "import sys\n",
    "sys.path.append('..')\n",
    "import collections\n",
    "import math\n",
    "import torch\n",
    "from torch import nn\n",
    "import d2l"
   ]
  },
  {
   "cell_type": "code",
   "execution_count": null,
   "metadata": {},
   "outputs": [],
   "source": [
    "class Seq3SeqEncoder(d2l.Encoder):\n",
    "  '''用于序列到序列学习的循环神经网络编码器'''\n",
    "  def __init__(self, vocab_size, embed_size, num_hiddens, num_layers, dropout=0):\n",
    "    super().__init__()\n",
    "    # 嵌入层\n",
    "    self.embedding = nn.Embedding(vocab_size, embed_size)\n",
    "    self.rnn = nn.GRU(embed_size, num_hiddens, num_layers, dropout=dropout)\n",
    "\n",
    "  def forward(self, X):\n",
    "    # 输出'X'的形状：(batch_size,num_steps,embed_size)\n",
    "    X = self.embedding(X)\n",
    "    # 在循环神经网络模型中，第一个轴对应于时间步\n",
    "    X = X.permute(1, 0, 2)\n",
    "    # 如果未提及状态，则默认为0\n",
    "    output, state = self.rnn(X)\n",
    "    # output的形状:(num_steps,batch_size,num_hiddens)\n",
    "    # state的形状:(num_layers,batch_size,num_hiddens)\n",
    "    return output, state"
   ]
  }
 ],
 "metadata": {
  "kernelspec": {
   "display_name": "Python 3",
   "language": "python",
   "name": "python3"
  },
  "language_info": {
   "codemirror_mode": {
    "name": "ipython",
    "version": 3
   },
   "file_extension": ".py",
   "mimetype": "text/x-python",
   "name": "python",
   "nbconvert_exporter": "python",
   "pygments_lexer": "ipython3",
   "version": "3.12.4"
  }
 },
 "nbformat": 4,
 "nbformat_minor": 2
}
