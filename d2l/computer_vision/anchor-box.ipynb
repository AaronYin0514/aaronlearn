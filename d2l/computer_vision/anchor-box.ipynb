{
 "cells": [
  {
   "cell_type": "markdown",
   "metadata": {},
   "source": [
    "# 锚框"
   ]
  },
  {
   "cell_type": "code",
   "execution_count": 27,
   "metadata": {},
   "outputs": [],
   "source": [
    "import sys\n",
    "sys.path.append('..')\n",
    "import torch\n",
    "import d2l\n",
    "\n",
    "torch.set_printoptions(2) # 精简输出精度"
   ]
  },
  {
   "cell_type": "code",
   "execution_count": 30,
   "metadata": {},
   "outputs": [],
   "source": [
    "def multibox_prior(data, sizes, ratios):\n",
    "  '''生成以每个像素为中心具有不同形状的锚框'''\n",
    "  in_height, in_width = data.shape[-2:]\n",
    "  device, num_sizes, num_ratios = data.device, len(sizes), len(ratios)\n",
    "  boxes_per_pixel = (num_sizes + num_ratios - 1)\n",
    "  size_tensor = torch.tensor(sizes, device=device)\n",
    "  ratio_tensor = torch.tensor(ratios, device=device)\n",
    "\n",
    "  # 为了将锚点移动到像素的中心，需要设置偏移量。\n",
    "  # 因为一个像素的高为1且宽为1，我们选择偏移我们的中心0.5\n",
    "  offset_h, offset_w = 0.5, 0.5\n",
    "  steps_h = 1.0 / in_height # 在y轴上缩放步长\n",
    "  steps_w = 1.0 / in_width # 在x轴上缩放步长\n",
    "\n",
    "  # 生成锚框的所有中心点\n",
    "  center_h = (torch.arange(in_height, device=device) + offset_h) * steps_h\n",
    "  center_w = (torch.arange(in_width, device=device) + offset_w) * steps_w\n",
    "  shift_y, shift_x = torch.meshgrid(center_h, center_w, indexing='ij')\n",
    "  shift_y, shift_x = shift_y.reshape(-1), shift_x.reshape(-1)\n",
    "\n",
    "  # 生成“boxes_per_pixel”个高和宽，\n",
    "  # 之后用于创建锚框的四角坐标(xmin,xmax,ymin,ymax)\n",
    "  w = torch.cat((size_tensor * torch.sqrt(ratio_tensor[0]),\n",
    "                 sizes[0] * torch.sqrt(ratio_tensor[1:])))\\\n",
    "                 * in_height / in_width # 处理矩形输入\n",
    "  h = torch.cat((size_tensor / torch.sqrt(ratio_tensor[0]),\n",
    "                 sizes[0] / torch.sqrt(ratio_tensor[1:])))\n",
    "  \n",
    "  # 除以2来获得半高和半宽\n",
    "  anchor_manipulations = torch.stack((-w, -h, w, h)).T.repeat(in_height * in_width, 1) / 2\n",
    "\n",
    "  # 每个中心点都将有“boxes_per_pixel”个锚框，\n",
    "  # 所以生成含所有锚框中心的网格，重复了“boxes_per_pixel”次\n",
    "  out_grid = torch.stack([shift_x, shift_y, shift_x, shift_y], dim=1).repeat_interleave(boxes_per_pixel, dim=0)\n",
    "  print('out_grid.shape =', out_grid.shape)\n",
    "  output = out_grid + anchor_manipulations\n",
    "  return output.unsqueeze(0)"
   ]
  },
  {
   "cell_type": "code",
   "execution_count": 31,
   "metadata": {},
   "outputs": [
    {
     "name": "stdout",
     "output_type": "stream",
     "text": [
      "561 728\n",
      "out_grid.shape = torch.Size([2042040, 4])\n"
     ]
    },
    {
     "data": {
      "text/plain": [
       "torch.Size([1, 2042040, 4])"
      ]
     },
     "execution_count": 31,
     "metadata": {},
     "output_type": "execute_result"
    }
   ],
   "source": [
    "img = d2l.plt.imread('../img/catdog.jpg')\n",
    "h, w = img.shape[:2]\n",
    "\n",
    "print(h, w)\n",
    "X = torch.rand(size=(1, 3, h, w))\n",
    "Y = multibox_prior(X, sizes=[0.75, 0.5, 0.25], ratios=[1, 2, 0.5])\n",
    "Y.shape"
   ]
  },
  {
   "cell_type": "code",
   "execution_count": 32,
   "metadata": {},
   "outputs": [
    {
     "data": {
      "text/plain": [
       "tensor([0.06, 0.07, 0.63, 0.82])"
      ]
     },
     "execution_count": 32,
     "metadata": {},
     "output_type": "execute_result"
    }
   ],
   "source": [
    "boxes = Y.reshape(h, w, 5, 4)\n",
    "boxes[250, 250, 0, :]"
   ]
  },
  {
   "cell_type": "code",
   "execution_count": 33,
   "metadata": {},
   "outputs": [],
   "source": [
    "def show_bboxes(axes, bboxes, labels=None, colors=None):\n",
    "    '''显示所有边界框'''\n",
    "    def _make_list(obj, default_values=None):\n",
    "        if obj is None:\n",
    "            obj = default_values\n",
    "        elif not isinstance(obj, (list, tuple)):\n",
    "            obj = [obj]\n",
    "        return obj\n",
    "    \n",
    "    labels = _make_list(labels)\n",
    "    colors = _make_list(colors, ['b', 'g', 'r', 'm', 'c'])\n",
    "    for i, bbox in enumerate(bboxes):\n",
    "        color = colors[i % len(colors)]\n",
    "        rect = d2l.bbox_to_rect(bbox.detach().numpy(), color)\n",
    "        axes.add_patch(rect)\n",
    "        if labels and len(labels) > i:\n",
    "            text_color = 'k' if color == 'w' else 'w'\n",
    "            axes.text(rect.xy[0], rect.xy[1], labels[i], va='center', ha='center', fontsize=9, color=text_color, bbox=dict(facecolor=color, lw=0))"
   ]
  },
  {
   "cell_type": "code",
   "execution_count": null,
   "metadata": {},
   "outputs": [],
   "source": [
    "d2l.set_figsize()\n",
    "bbox_scale = torch.tensor((w, h, w, h))\n",
    "fig = d2l.plt.imshow(img)\n",
    "show_bboxes(fig.axes, boxes[250, 250, :, :] * bbox_scale,\n",
    "            ['s=0.75, r=1', 's=0.5, r=1', 's=0.25, r=1', 's=0.75, r=2',\n",
    "             's=0.75, r=0.5'])"
   ]
  }
 ],
 "metadata": {
  "kernelspec": {
   "display_name": "Python 3",
   "language": "python",
   "name": "python3"
  },
  "language_info": {
   "codemirror_mode": {
    "name": "ipython",
    "version": 3
   },
   "file_extension": ".py",
   "mimetype": "text/x-python",
   "name": "python",
   "nbconvert_exporter": "python",
   "pygments_lexer": "ipython3",
   "version": "3.12.4"
  }
 },
 "nbformat": 4,
 "nbformat_minor": 2
}
