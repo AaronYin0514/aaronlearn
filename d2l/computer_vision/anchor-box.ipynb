{
 "cells": [
  {
   "cell_type": "markdown",
   "metadata": {},
   "source": [
    "# 锚框"
   ]
  },
  {
   "cell_type": "code",
   "execution_count": null,
   "metadata": {},
   "outputs": [],
   "source": [
    "import sys\n",
    "sys.path.append('..')\n",
    "import torch\n",
    "import d2l\n",
    "\n",
    "torch.set_printoptions(2) # 精简输出精度"
   ]
  },
  {
   "cell_type": "code",
   "execution_count": 1,
   "metadata": {},
   "outputs": [],
   "source": [
    "def multibox_prior(data, sizes, ratios):\n",
    "  '''生成以每个像素为中心具有不同形状的锚框'''\n",
    "  in_height, in_width = data.shape[-2:]\n",
    "  device, num_sizes, num_ratios = data.device, len(sizes), len(ratios)\n",
    "  boxes_per_pixel = (num_sizes + num_ratios - 1)\n",
    "  size_tensor = torch.tensor(sizes, device=device)\n",
    "  ratio_tensor = torch.tensor(ratios, device=device)\n",
    "\n",
    "  # 为了将锚点移动到像素的中心，需要设置偏移量。\n",
    "  # 因为一个像素的高为1且宽为1，我们选择偏移我们的中心0.5\n",
    "  offset_h, offset_w = 0.5, 0.5\n",
    "  steps_h = 1.0 / in_height # 在y轴上缩放步长\n",
    "  steps_w = 1.0 / in_width # 在x轴上缩放步长\n",
    "\n",
    "  # 生成锚框的所有中心点\n",
    "  center_h = (torch.arange(in_height, device=device) + offset_h) * steps_h\n",
    "  center_w = (torch.arange(in_width, device=device) + offset_w) * steps_w\n",
    "  shift_y, shift_x = torch.meshgrid(center_h, center_w, indexing='ij')\n",
    "  shift_y, shift_x = shift_y.reshape(-1), shift_x.reshape(-1)\n",
    "\n",
    "  # 生成“boxes_per_pixel”个高和宽，\n",
    "  # 之后用于创建锚框的四角坐标(xmin,xmax,ymin,ymax)\n",
    "  w = torch.cat((size_tensor * torch.sqrt(ratio_tensor[0]),\n",
    "                 sizes[0] * torch.sqrt(ratio_tensor[1:])))\\\n",
    "                 * in_height / in_width # 处理矩形输入\n",
    "  h = torch.cat((size_tensor / torch.sqrt(ratio_tensor[0]),\n",
    "                 sizes[0] / torch.sqrt(ratio_tensor[1:])))\n",
    "  \n",
    "  # 除以2来获得半高和半宽\n",
    "  anchor_manipulations = torch.stack((-w, -h, w, h)).T.repeat(\n",
    "    in_height * in_width, 1\n",
    "  ) / 2\n",
    "\n",
    "  # 每个中心点都将有“boxes_per_pixel”个锚框，\n",
    "  # 所以生成含所有锚框中心的网格，重复了“boxes_per_pixel”次\n",
    "  out_grid = torch.stack([shift_x, shift_y, shift_x, shift_y], dim=1).repeat_interleave(boxes_per_pixel, dim=0)\n",
    "  output = out_grid + anchor_manipulations\n",
    "  return output.unsqueeze(0)"
   ]
  },
  {
   "cell_type": "code",
   "execution_count": null,
   "metadata": {},
   "outputs": [],
   "source": []
  }
 ],
 "metadata": {
  "kernelspec": {
   "display_name": "Python 3",
   "language": "python",
   "name": "python3"
  },
  "language_info": {
   "codemirror_mode": {
    "name": "ipython",
    "version": 3
   },
   "file_extension": ".py",
   "mimetype": "text/x-python",
   "name": "python",
   "nbconvert_exporter": "python",
   "pygments_lexer": "ipython3",
   "version": "3.12.4"
  }
 },
 "nbformat": 4,
 "nbformat_minor": 2
}
