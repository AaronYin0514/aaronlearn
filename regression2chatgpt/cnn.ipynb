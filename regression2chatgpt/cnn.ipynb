{
 "cells": [
  {
   "cell_type": "markdown",
   "metadata": {},
   "source": [
    "# 卷积神经网络"
   ]
  },
  {
   "cell_type": "code",
   "execution_count": 21,
   "metadata": {},
   "outputs": [],
   "source": [
    "import torch\n",
    "import torch.nn as nn"
   ]
  },
  {
   "cell_type": "code",
   "execution_count": 22,
   "metadata": {},
   "outputs": [],
   "source": [
    "def conv_example(in_channel, kernel):\n",
    "    # in_channel: (28, 28)\n",
    "    # kernel:     ( 5,  5)\n",
    "    output = torch.zeros(24, 24)\n",
    "    for h in range(24):\n",
    "        for w in range(24):\n",
    "            inputs = in_channel[h: h + 5, w: w + 5]\n",
    "            output[h, w] = (inputs * kernel).sum()\n",
    "    return output"
   ]
  },
  {
   "cell_type": "code",
   "execution_count": 23,
   "metadata": {},
   "outputs": [],
   "source": [
    "m = nn.Conv2d(1, 1, (5, 5), bias=False)"
   ]
  },
  {
   "cell_type": "code",
   "execution_count": 24,
   "metadata": {},
   "outputs": [],
   "source": [
    "x = torch.randn(1, 1, 28, 28)"
   ]
  },
  {
   "cell_type": "code",
   "execution_count": 25,
   "metadata": {},
   "outputs": [
    {
     "data": {
      "text/plain": [
       "torch.Size([1, 1, 24, 24])"
      ]
     },
     "execution_count": 25,
     "metadata": {},
     "output_type": "execute_result"
    }
   ],
   "source": [
    "re = m(x)\n",
    "re.shape"
   ]
  },
  {
   "cell_type": "code",
   "execution_count": 26,
   "metadata": {},
   "outputs": [
    {
     "data": {
      "text/plain": [
       "torch.Size([1, 1, 5, 5])"
      ]
     },
     "execution_count": 26,
     "metadata": {},
     "output_type": "execute_result"
    }
   ],
   "source": [
    "m.weight.shape"
   ]
  },
  {
   "cell_type": "code",
   "execution_count": 27,
   "metadata": {},
   "outputs": [],
   "source": [
    "re1 = conv_example(x.squeeze(), m.weight.squeeze())"
   ]
  },
  {
   "cell_type": "code",
   "execution_count": 28,
   "metadata": {},
   "outputs": [
    {
     "data": {
      "text/plain": [
       "torch.Size([24, 24])"
      ]
     },
     "execution_count": 28,
     "metadata": {},
     "output_type": "execute_result"
    }
   ],
   "source": [
    "re1.shape"
   ]
  },
  {
   "cell_type": "code",
   "execution_count": 29,
   "metadata": {},
   "outputs": [
    {
     "data": {
      "text/plain": [
       "tensor(True)"
      ]
     },
     "execution_count": 29,
     "metadata": {},
     "output_type": "execute_result"
    }
   ],
   "source": [
    "torch.all((re - re1).abs() < 0.001)"
   ]
  },
  {
   "cell_type": "code",
   "execution_count": 30,
   "metadata": {},
   "outputs": [
    {
     "data": {
      "text/plain": [
       "torch.Size([4, 3, 5, 5])"
      ]
     },
     "execution_count": 30,
     "metadata": {},
     "output_type": "execute_result"
    }
   ],
   "source": [
    "m1 = nn.Conv2d(3, 4, (5, 5))\n",
    "m1.weight.shape"
   ]
  },
  {
   "cell_type": "code",
   "execution_count": 31,
   "metadata": {},
   "outputs": [
    {
     "data": {
      "text/plain": [
       "torch.Size([10, 4, 24, 24])"
      ]
     },
     "execution_count": 31,
     "metadata": {},
     "output_type": "execute_result"
    }
   ],
   "source": [
    "x1 = torch.randn(10, 3, 28, 28)\n",
    "m1(x1).shape"
   ]
  },
  {
   "cell_type": "code",
   "execution_count": 32,
   "metadata": {},
   "outputs": [
    {
     "data": {
      "text/plain": [
       "torch.Size([10, 3, 14, 14])"
      ]
     },
     "execution_count": 32,
     "metadata": {},
     "output_type": "execute_result"
    }
   ],
   "source": [
    "p = nn.MaxPool2d(2, 2)\n",
    "p(x1).shape"
   ]
  },
  {
   "cell_type": "markdown",
   "metadata": {},
   "source": [
    "### 卷积神经网络的实现"
   ]
  },
  {
   "cell_type": "code",
   "execution_count": 33,
   "metadata": {},
   "outputs": [
    {
     "data": {
      "text/plain": [
       "<torch._C.Generator at 0x123e80d10>"
      ]
     },
     "execution_count": 33,
     "metadata": {},
     "output_type": "execute_result"
    }
   ],
   "source": [
    "import torch\n",
    "import torch.nn as nn\n",
    "import torch.nn.functional as F\n",
    "import torch.optim as optim\n",
    "from torch.utils.data import DataLoader, random_split\n",
    "from torchvision import datasets\n",
    "import torchvision.transforms as transforms\n",
    "import matplotlib.pyplot as plt\n",
    "\n",
    "torch.manual_seed(12046)"
   ]
  },
  {
   "cell_type": "code",
   "execution_count": 34,
   "metadata": {},
   "outputs": [],
   "source": [
    "dataset = datasets.MNIST(root='./data', train=True, download=True, transform=transforms.ToTensor())\n",
    "train_set, val_set = random_split(dataset, [50000, 10000])\n",
    "test_set = datasets.MNIST(root='./data', train=False, download=True, transform=transforms.ToTensor())\n",
    "\n",
    "train_loader = DataLoader(train_set, batch_size=500, shuffle=True)\n",
    "val_loader = DataLoader(val_set, batch_size=500, shuffle=True)\n",
    "test_loader = DataLoader(test_set, batch_size=500, shuffle=True)\n"
   ]
  },
  {
   "cell_type": "code",
   "execution_count": 35,
   "metadata": {},
   "outputs": [],
   "source": [
    "class CNN(nn.Module):\n",
    "\n",
    "  def __init__(self):\n",
    "    super().__init__()\n",
    "    self.conv1 = nn.Conv2d(1, 20, (5, 5))\n",
    "    self.pool1 = nn.MaxPool2d(2, 2)\n",
    "    self.conv2 = nn.Conv2d(20, 40, (5, 5))\n",
    "    self.pool2 = nn.MaxPool2d(2, 2)\n",
    "    self.fc1 = nn.Linear(40 * 4 * 4, 120)\n",
    "    self.fc2 = nn.Linear(120, 10)\n",
    "\n",
    "  def forward(self, x):\n",
    "    # x : (B, 1, 28, 28)\n",
    "    B = x.shape[0]                         # (B,  1, 28, 28)\n",
    "    x = F.relu(self.conv1(x))              # (B, 20, 24, 24)\n",
    "    x = self.pool1(x)                      # (B, 20, 12, 12)\n",
    "    x = F.relu(self.conv2(x))              # (B, 40,  8,  8)\n",
    "    x = self.pool2(x)                      # (B, 40,  4,  4)\n",
    "    x = F.relu(self.fc1(x.view(B, -1)))    # (B, 120)\n",
    "    x = self.fc2(x)                        # (B, 10)\n",
    "    return x\n",
    "  \n",
    "model = CNN()"
   ]
  },
  {
   "cell_type": "code",
   "execution_count": 36,
   "metadata": {},
   "outputs": [],
   "source": [
    "eval_iters = 10\n",
    "\n",
    "def estimate_loss(model):\n",
    "  re = {}\n",
    "  # 将模型切换为评估模式\n",
    "  model.eval()\n",
    "  re['train'] = _loss(model, train_loader)\n",
    "  re['val'] = _loss(model, val_loader)\n",
    "  re['test'] = _loss(model, test_loader)\n",
    "  # 将模型切换为训练模式\n",
    "  model.train()\n",
    "  return re\n",
    "\n",
    "@torch.no_grad()\n",
    "def _loss(model, dataloader):\n",
    "  # 估计模型效果\n",
    "  loss = []\n",
    "  acc = []\n",
    "  data_iter = iter(dataloader)\n",
    "  for t in range(eval_iters):\n",
    "    inputs, labels = next(data_iter)\n",
    "    # inputs: (500, 1, 28, 28)\n",
    "    # labels: (500)\n",
    "    B, C, H, W = inputs.shape\n",
    "    #logits = model(inputs.view(B, -1))\n",
    "    logits = model(inputs)\n",
    "    loss.append(F.cross_entropy(logits, labels))\n",
    "    # preds = torch.argmax(F.softmax(logits, dim=-1), dim=-1)\n",
    "    preds = torch.argmax(logits, dim=-1)\n",
    "    acc.append((preds == labels).sum() / B)\n",
    "  re = {\n",
    "    'loss': torch.tensor(loss).mean().item(),\n",
    "    'acc': torch.tensor(acc).mean().item()\n",
    "  }\n",
    "  return re"
   ]
  },
  {
   "cell_type": "code",
   "execution_count": 41,
   "metadata": {},
   "outputs": [],
   "source": [
    "def train_model(model, optimizer, epochs=10, penalty=False):\n",
    "  lossi = []\n",
    "  for e in range(epochs):\n",
    "    for data in train_loader:\n",
    "      inputs, lables = data\n",
    "      logits = model(inputs)\n",
    "      loss = F.cross_entropy(logits, lables)\n",
    "      lossi.append(loss.item())\n",
    "      if penalty:\n",
    "        w = torch.cat([p.view(-1) for p in model.parameters()])\n",
    "        loss += 0.001 * w.abs().sum() + 0.002 * w.square().sum()\n",
    "      optimizer.zero_grad()\n",
    "      loss.backward()\n",
    "      optimizer.step()\n",
    "    stats = estimate_loss(model)\n",
    "    train_loss = f'{stats[\"train\"][\"loss\"]:.3f}'\n",
    "    val_loss = f'{stats[\"val\"][\"loss\"]:.3f}'\n",
    "    test_loss = f'{stats[\"test\"][\"loss\"]:.3f}'\n",
    "    print(f'epoch {e} train {train_loss} val {val_loss} test {test_loss}')\n",
    "  return lossi"
   ]
  },
  {
   "cell_type": "code",
   "execution_count": 42,
   "metadata": {},
   "outputs": [
    {
     "name": "stdout",
     "output_type": "stream",
     "text": [
      "epoch 0 train 0.069 val 0.072 test 0.060\n",
      "epoch 1 train 0.043 val 0.062 test 0.054\n",
      "epoch 2 train 0.037 val 0.041 test 0.040\n",
      "epoch 3 train 0.037 val 0.049 test 0.045\n",
      "epoch 4 train 0.022 val 0.041 test 0.041\n",
      "epoch 5 train 0.020 val 0.040 test 0.045\n",
      "epoch 6 train 0.023 val 0.045 test 0.037\n",
      "epoch 7 train 0.014 val 0.040 test 0.038\n",
      "epoch 8 train 0.011 val 0.038 test 0.043\n",
      "epoch 9 train 0.009 val 0.032 test 0.037\n"
     ]
    }
   ],
   "source": [
    "_ = train_model(model, optim.Adam(model.parameters(), lr=0.01))"
   ]
  },
  {
   "cell_type": "code",
   "execution_count": 43,
   "metadata": {},
   "outputs": [
    {
     "data": {
      "text/plain": [
       "{'train': {'loss': 0.013266381807625294, 'acc': 0.9953999519348145},\n",
       " 'val': {'loss': 0.03646098077297211, 'acc': 0.9896000027656555},\n",
       " 'test': {'loss': 0.036671943962574005, 'acc': 0.9911999702453613}}"
      ]
     },
     "execution_count": 43,
     "metadata": {},
     "output_type": "execute_result"
    }
   ],
   "source": [
    "estimate_loss(model)"
   ]
  },
  {
   "cell_type": "code",
   "execution_count": 46,
   "metadata": {},
   "outputs": [],
   "source": [
    "class CNN2(nn.Module):\n",
    "\n",
    "  def __init__(self):\n",
    "    super().__init__()\n",
    "    self.conv1 = nn.Conv2d(1, 20, (5, 5))\n",
    "    self.ln1 = nn.LayerNorm([20, 24, 24])\n",
    "    self.pool1 = nn.MaxPool2d(2, 2)\n",
    "    self.conv2 = nn.Conv2d(20, 40, (5, 5))\n",
    "    self.ln2 = nn.LayerNorm([40, 8, 8])\n",
    "    self.pool2 = nn.MaxPool2d(2, 2)\n",
    "    self.fc1 = nn.Linear(40 * 4 * 4, 120)\n",
    "    self.dp = nn.Dropout(0.2)\n",
    "    self.fc2 = nn.Linear(120, 10)\n",
    "\n",
    "  def forward(self, x):\n",
    "    # x : (B, 1, 28, 28)\n",
    "    B = x.shape[0]                        # (B,  1, 28, 28)\n",
    "    x = F.relu(self.ln1(self.conv1(x)))   # (B, 20, 24, 24)\n",
    "    x = self.pool1(x)                     # (B, 20, 12, 12)\n",
    "    x = F.relu(self.ln2(self.conv2(x)))   # (B, 40,  8,  8)\n",
    "    x = self.pool2(x)                     # (B, 40,  4,  4)\n",
    "    x = F.relu(self.fc1(x.view(B, -1)))   # (B, 120)\n",
    "    x = self.dp(x)\n",
    "    x = self.fc2(x)                       # (B, 10)\n",
    "    return x\n",
    "  \n",
    "model2 = CNN2()"
   ]
  },
  {
   "cell_type": "code",
   "execution_count": 47,
   "metadata": {},
   "outputs": [
    {
     "name": "stdout",
     "output_type": "stream",
     "text": [
      "epoch 0 train 0.098 val 0.108 test 0.106\n",
      "epoch 1 train 0.044 val 0.054 test 0.044\n",
      "epoch 2 train 0.038 val 0.045 test 0.048\n",
      "epoch 3 train 0.030 val 0.048 test 0.040\n",
      "epoch 4 train 0.036 val 0.055 test 0.048\n",
      "epoch 5 train 0.015 val 0.038 test 0.029\n",
      "epoch 6 train 0.023 val 0.043 test 0.034\n",
      "epoch 7 train 0.011 val 0.033 test 0.030\n",
      "epoch 8 train 0.011 val 0.032 test 0.031\n",
      "epoch 9 train 0.011 val 0.036 test 0.038\n"
     ]
    }
   ],
   "source": [
    "_ = train_model(model2, optim.Adam(model2.parameters(), lr=0.01))"
   ]
  },
  {
   "cell_type": "code",
   "execution_count": 48,
   "metadata": {},
   "outputs": [
    {
     "data": {
      "text/plain": [
       "{'train': {'loss': 0.01224433071911335, 'acc': 0.9962000846862793},\n",
       " 'val': {'loss': 0.044408101588487625, 'acc': 0.9894000291824341},\n",
       " 'test': {'loss': 0.03508155792951584, 'acc': 0.991399884223938}}"
      ]
     },
     "execution_count": 48,
     "metadata": {},
     "output_type": "execute_result"
    }
   ],
   "source": [
    "estimate_loss(model2)"
   ]
  }
 ],
 "metadata": {
  "kernelspec": {
   "display_name": "Python 3",
   "language": "python",
   "name": "python3"
  },
  "language_info": {
   "codemirror_mode": {
    "name": "ipython",
    "version": 3
   },
   "file_extension": ".py",
   "mimetype": "text/x-python",
   "name": "python",
   "nbconvert_exporter": "python",
   "pygments_lexer": "ipython3",
   "version": "3.9.19"
  }
 },
 "nbformat": 4,
 "nbformat_minor": 2
}
