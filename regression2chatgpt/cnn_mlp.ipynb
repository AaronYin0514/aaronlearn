{
 "cells": [
  {
   "cell_type": "code",
   "execution_count": 2,
   "metadata": {},
   "outputs": [
    {
     "data": {
      "text/plain": [
       "<torch._C.Generator at 0x10f4ca830>"
      ]
     },
     "execution_count": 2,
     "metadata": {},
     "output_type": "execute_result"
    }
   ],
   "source": [
    "import torch\n",
    "import torch.nn as nn\n",
    "import torch.nn.functional as F\n",
    "import torch.optim as optim\n",
    "from torch.utils.data import DataLoader, random_split\n",
    "from torchvision import datasets\n",
    "import torchvision.transforms as transforms\n",
    "import matplotlib.pyplot as plt\n",
    "\n",
    "%matplotlib inline\n",
    "\n",
    "torch.manual_seed(12046)"
   ]
  },
  {
   "cell_type": "code",
   "execution_count": 3,
   "metadata": {},
   "outputs": [
    {
     "data": {
      "text/plain": [
       "(50000, 10000, 10000)"
      ]
     },
     "execution_count": 3,
     "metadata": {},
     "output_type": "execute_result"
    }
   ],
   "source": [
    "# 准备数据\n",
    "dataset = datasets.MNIST(root='./data', train=True, download=True, transform=transforms.ToTensor())\n",
    "# 将数据划分成训练集、验证集、测试集\n",
    "train_set, val_set = random_split(dataset, [50000, 10000])\n",
    "test_set = datasets.MNIST(root='./data', train=False, download=True, transform=transforms.ToTensor())\n",
    "len(train_set), len(val_set), len(test_set)"
   ]
  },
  {
   "cell_type": "code",
   "execution_count": 8,
   "metadata": {},
   "outputs": [
    {
     "data": {
      "text/plain": [
       "torch.Size([1, 28, 28])"
      ]
     },
     "execution_count": 8,
     "metadata": {},
     "output_type": "execute_result"
    }
   ],
   "source": [
    "x, y = dataset[21]\n",
    "x.shape"
   ]
  },
  {
   "cell_type": "code",
   "execution_count": 9,
   "metadata": {},
   "outputs": [
    {
     "data": {
      "text/plain": [
       "<matplotlib.image.AxesImage at 0x309d76d90>"
      ]
     },
     "execution_count": 9,
     "metadata": {},
     "output_type": "execute_result"
    },
    {
     "data": {
      "image/png": "[encoded data removed]",
      "text/plain": [
       "<Figure size 640x480 with 1 Axes>"
      ]
     },
     "metadata": {},
     "output_type": "display_data"
    }
   ],
   "source": [
    "plt.imshow(x.squeeze(0).numpy(), cmap=plt.cm.binary)"
   ]
  },
  {
   "cell_type": "code",
   "execution_count": 4,
   "metadata": {},
   "outputs": [],
   "source": [
    "# 构建数据读取器\n",
    "train_loader = DataLoader(train_set, batch_size=500, shuffle=True)\n",
    "val_loader = DataLoader(val_set, batch_size=500, shuffle=True)\n",
    "test_loader = DataLoader(test_set, batch_size=500, shuffle=True)"
   ]
  },
  {
   "cell_type": "code",
   "execution_count": 5,
   "metadata": {},
   "outputs": [
    {
     "data": {
      "text/plain": [
       "(torch.Size([500, 1, 28, 28]), torch.Size([500]), torch.Size([500, 784]))"
      ]
     },
     "execution_count": 5,
     "metadata": {},
     "output_type": "execute_result"
    }
   ],
   "source": [
    "# 获取一个批量的数据\n",
    "x, y = next(iter(train_loader))\n",
    "x.shape, y.shape, x.view(x.shape[0], -1).shape"
   ]
  },
  {
   "cell_type": "code",
   "execution_count": 6,
   "metadata": {},
   "outputs": [],
   "source": [
    "# 两种常见实现方式\n",
    "## 自由度更大的实现方式\n",
    "class MLP(nn.Module):\n",
    "\n",
    "  def __init__(self):\n",
    "    super().__init__()\n",
    "    self.hidden1 = nn.Linear(784, 30)\n",
    "    self.hidden2 = nn.Linear(30, 20)\n",
    "    self.out = nn.Linear(20, 10)\n",
    "  \n",
    "  def forward(self, X):\n",
    "    '''\n",
    "    多层感知器的前向传播\n",
    "    参数\n",
    "    ____\n",
    "    x: torch.FloatTensor, 形状为(B, 784)，其中B表示批量数据的大小\n",
    "    '''\n",
    "    x = F.sigmoid(self.hidden1(x))\n",
    "    x = F.sigmoid(self.hidden2(x))\n",
    "    x = self.out(x)\n",
    "    return x\n",
    "  \n",
    "model = MLP()\n",
    "\n",
    "## 更简洁的实现方式\n",
    "model = nn.Sequential(\n",
    "  nn.Linear(784, 30), nn.Sigmoid(),\n",
    "  nn.Linear(30, 20), nn.Sigmoid(),\n",
    "  nn.Linear(20, 10)\n",
    ")"
   ]
  },
  {
   "cell_type": "code",
   "execution_count": 7,
   "metadata": {},
   "outputs": [],
   "source": [
    "eval_iters = 10\n",
    "\n",
    "def estimate_loss(model):\n",
    "  re = {}\n",
    "  # 将模型切换为评估模式\n",
    "  model.eval()\n",
    "  re['train'] = _loss(model, train_loader)\n",
    "  re['val'] = _loss(model, val_loader)\n",
    "  re['test'] = _loss(model, test_loader)\n",
    "  # 将模型切换为训练模式\n",
    "  model.train()\n",
    "  return re\n",
    "\n",
    "@torch.no_grad()\n",
    "def _loss(model, dataloader):\n",
    "  # 估计模型效果\n",
    "  loss = []\n",
    "  acc = []\n",
    "  data_iter = iter(dataloader)\n",
    "  for t in range(eval_iters):\n",
    "    inputs, labels = next(data_iter)\n",
    "    # inputs: (500, 1, 28, 28)\n",
    "    # labels: (500)\n",
    "    B, C, H, W = inputs.shape\n",
    "    logits = model(inputs.view(B, -1))\n",
    "    loss.append(F.cross_entropy(logits, labels))\n",
    "    # preds = torch.argmax(F.softmax(logits, dim=-1), dim=-1)\n",
    "    preds = torch.argmax(logits, dim=-1)\n",
    "    acc.append((preds == labels).sum() / B)\n",
    "  re = {\n",
    "    'loss': torch.tensor(loss).mean().item(),\n",
    "    'acc': torch.tensor(acc).mean().item()\n",
    "  }\n",
    "  return re"
   ]
  },
  {
   "cell_type": "markdown",
   "metadata": {},
   "source": [
    "运行结果大概是\n",
    "\n",
    "```\n",
    "{'train': {'loss': 2.3977837562561035, 'acc': 0.10039999336004257},\n",
    " 'val': {'loss': 2.40299916267395, 'acc': 0.1095999926328659},\n",
    " 'test': {'loss': 2.3904480934143066, 'acc': 0.10520000755786896}}\n",
    "```\n",
    "\n",
    "这里符合预期，10个数，随机选择概率是10%"
   ]
  },
  {
   "cell_type": "code",
   "execution_count": 10,
   "metadata": {},
   "outputs": [
    {
     "data": {
      "text/plain": [
       "{'train': {'loss': 2.3977837562561035, 'acc': 0.10039999336004257},\n",
       " 'val': {'loss': 2.40299916267395, 'acc': 0.1095999926328659},\n",
       " 'test': {'loss': 2.3904480934143066, 'acc': 0.10520000755786896}}"
      ]
     },
     "execution_count": 10,
     "metadata": {},
     "output_type": "execute_result"
    }
   ],
   "source": [
    "estimate_loss(model)"
   ]
  },
  {
   "cell_type": "code",
   "execution_count": 15,
   "metadata": {},
   "outputs": [],
   "source": [
    "def train_model(model, optimizer, epochs=10, penalty=False):\n",
    "  lossi = []\n",
    "  for e in range(epochs):\n",
    "    for data in train_loader:\n",
    "      inputs, labels = data\n",
    "      B, C, H, W = inputs.shape\n",
    "      logits = model(inputs.view(B, -1))\n",
    "      loss = F.cross_entropy(logits, labels)\n",
    "      lossi.append(loss.item())\n",
    "      if penalty:\n",
    "        w = torch.cat([p.view(-1) for p in model.parameters()])\n",
    "        loss += 0.001 * w.abs().sum() + 0.002 * w.square().sum()\n",
    "      optimizer.zero_grad()\n",
    "      loss.backward()\n",
    "      optimizer.step()\n",
    "    stats = estimate_loss(model)\n",
    "    train_loss = f'{stats[\"train\"][\"loss\"]:.3f}'\n",
    "    val_loss = f'{stats[\"val\"][\"loss\"]:.3f}'\n",
    "    test_loss = f'{stats[\"test\"][\"loss\"]:.3f}'\n",
    "    print(f'epoch {e} train {train_loss} val {val_loss} test {test_loss}')\n",
    "  return lossi\n"
   ]
  },
  {
   "cell_type": "code",
   "execution_count": 16,
   "metadata": {},
   "outputs": [],
   "source": [
    "loss = {}"
   ]
  },
  {
   "cell_type": "code",
   "execution_count": 17,
   "metadata": {},
   "outputs": [
    {
     "name": "stdout",
     "output_type": "stream",
     "text": [
      "epoch 0 train 2.314 val 2.311 test 2.316\n",
      "epoch 1 train 2.305 val 2.302 test 2.306\n",
      "epoch 2 train 2.303 val 2.301 test 2.301\n",
      "epoch 3 train 2.299 val 2.301 test 2.300\n",
      "epoch 4 train 2.299 val 2.299 test 2.300\n",
      "epoch 5 train 2.298 val 2.300 test 2.299\n",
      "epoch 6 train 2.299 val 2.300 test 2.299\n",
      "epoch 7 train 2.298 val 2.300 test 2.298\n",
      "epoch 8 train 2.297 val 2.299 test 2.298\n",
      "epoch 9 train 2.298 val 2.298 test 2.297\n"
     ]
    }
   ],
   "source": [
    "model = nn.Sequential(\n",
    "  nn.Linear(784, 30), nn.Sigmoid(),\n",
    "  nn.Linear(30, 20), nn.Sigmoid(),\n",
    "  nn.Linear(20, 10)\n",
    ")\n",
    "\n",
    "loss['mlp'] = train_model(model, optim.SGD(model.parameters(), lr=0.01))"
   ]
  },
  {
   "cell_type": "markdown",
   "metadata": {},
   "source": [
    "### ReLU"
   ]
  },
  {
   "cell_type": "code",
   "execution_count": 18,
   "metadata": {},
   "outputs": [
    {
     "name": "stdout",
     "output_type": "stream",
     "text": [
      "epoch 0 train 2.287 val 2.292 test 2.288\n",
      "epoch 1 train 2.258 val 2.265 test 2.256\n",
      "epoch 2 train 2.218 val 2.224 test 2.217\n",
      "epoch 3 train 2.158 val 2.166 test 2.158\n",
      "epoch 4 train 2.061 val 2.061 test 2.059\n",
      "epoch 5 train 1.909 val 1.904 test 1.899\n",
      "epoch 6 train 1.711 val 1.714 test 1.692\n",
      "epoch 7 train 1.462 val 1.458 test 1.452\n",
      "epoch 8 train 1.196 val 1.200 test 1.162\n",
      "epoch 9 train 0.980 val 0.978 test 0.952\n"
     ]
    }
   ],
   "source": [
    "model = nn.Sequential(\n",
    "  nn.Linear(784, 30), nn.ReLU(),\n",
    "  nn.Linear(30, 20), nn.ReLU(),\n",
    "  nn.Linear(20, 10)\n",
    ")\n",
    "\n",
    "loss['mlp_relu'] = train_model(model, optim.SGD(model.parameters(), lr=0.01))"
   ]
  },
  {
   "cell_type": "markdown",
   "metadata": {},
   "source": [
    "### 归一化"
   ]
  },
  {
   "cell_type": "code",
   "execution_count": 19,
   "metadata": {},
   "outputs": [
    {
     "name": "stdout",
     "output_type": "stream",
     "text": [
      "epoch 0 train 1.448 val 1.444 test 1.434\n",
      "epoch 1 train 1.090 val 1.086 test 1.087\n",
      "epoch 2 train 0.825 val 0.817 test 0.816\n",
      "epoch 3 train 0.626 val 0.643 test 0.637\n",
      "epoch 4 train 0.528 val 0.513 test 0.520\n",
      "epoch 5 train 0.423 val 0.429 test 0.425\n",
      "epoch 6 train 0.364 val 0.386 test 0.376\n",
      "epoch 7 train 0.332 val 0.340 test 0.339\n",
      "epoch 8 train 0.318 val 0.313 test 0.303\n",
      "epoch 9 train 0.286 val 0.285 test 0.283\n"
     ]
    }
   ],
   "source": [
    "model = nn.Sequential(\n",
    "    nn.Linear(784, 30, bias=False), nn.LayerNorm(30), nn.ReLU(),\n",
    "    nn.Linear( 30, 20, bias=False), nn.LayerNorm(20), nn.ReLU(),\n",
    "    nn.Linear( 20, 10)\n",
    ")\n",
    "\n",
    "loss['mlp_relu_layer'] = train_model(model, optim.SGD(model.parameters(), lr=0.01))"
   ]
  },
  {
   "cell_type": "code",
   "execution_count": 20,
   "metadata": {},
   "outputs": [
    {
     "data": {
      "image/png": "[encoded data removed]",
      "text/plain": [
       "<Figure size 640x480 with 1 Axes>"
      ]
     },
     "metadata": {},
     "output_type": "display_data"
    }
   ],
   "source": [
    "for i in ['mlp', 'mlp_relu', 'mlp_relu_layer']:\n",
    "  plt.plot(torch.tensor(loss[i]).view(-1, 10).mean(dim=-1), label=i)\n",
    "plt.legend()\n",
    "plt.show()"
   ]
  },
  {
   "cell_type": "code",
   "execution_count": 21,
   "metadata": {},
   "outputs": [
    {
     "name": "stdout",
     "output_type": "stream",
     "text": [
      "epoch 0 train 0.191 val 0.207 test 0.203\n",
      "epoch 1 train 0.132 val 0.160 test 0.161\n",
      "epoch 2 train 0.099 val 0.131 test 0.130\n",
      "epoch 3 train 0.095 val 0.140 test 0.135\n",
      "epoch 4 train 0.086 val 0.140 test 0.120\n",
      "epoch 5 train 0.067 val 0.135 test 0.127\n",
      "epoch 6 train 0.069 val 0.146 test 0.116\n",
      "epoch 7 train 0.054 val 0.111 test 0.114\n",
      "epoch 8 train 0.045 val 0.134 test 0.119\n",
      "epoch 9 train 0.056 val 0.134 test 0.114\n",
      "epoch 10 train 0.063 val 0.143 test 0.157\n",
      "epoch 11 train 0.043 val 0.139 test 0.134\n",
      "epoch 12 train 0.058 val 0.147 test 0.142\n",
      "epoch 13 train 0.043 val 0.140 test 0.138\n",
      "epoch 14 train 0.060 val 0.159 test 0.167\n",
      "epoch 15 train 0.040 val 0.149 test 0.148\n",
      "epoch 16 train 0.033 val 0.127 test 0.116\n",
      "epoch 17 train 0.031 val 0.146 test 0.143\n",
      "epoch 18 train 0.025 val 0.136 test 0.132\n",
      "epoch 19 train 0.022 val 0.139 test 0.145\n"
     ]
    }
   ],
   "source": [
    "model = nn.Sequential(\n",
    "    nn.Linear(784, 30, bias=False), nn.LayerNorm(30), nn.ReLU(),\n",
    "    nn.Linear( 30, 20, bias=False), nn.LayerNorm(20), nn.ReLU(),\n",
    "    nn.Linear( 20, 10)\n",
    ")\n",
    "\n",
    "# 增加epochs，模型过拟合\n",
    "loss['mlp_relu_layer'] = train_model(model, optim.Adam(model.parameters(), lr=0.01), epochs=20)"
   ]
  },
  {
   "cell_type": "markdown",
   "metadata": {},
   "source": [
    "### Dropout"
   ]
  },
  {
   "cell_type": "code",
   "execution_count": 22,
   "metadata": {},
   "outputs": [],
   "source": [
    "m = nn.Dropout(0.5)\n",
    "x = torch.randn(5, requires_grad=True)"
   ]
  },
  {
   "cell_type": "code",
   "execution_count": 23,
   "metadata": {},
   "outputs": [
    {
     "data": {
      "text/plain": [
       "tensor([-1.0541, -0.5766, -1.7516, -0.4524, -0.6323], requires_grad=True)"
      ]
     },
     "execution_count": 23,
     "metadata": {},
     "output_type": "execute_result"
    }
   ],
   "source": [
    "x"
   ]
  },
  {
   "cell_type": "code",
   "execution_count": 24,
   "metadata": {},
   "outputs": [
    {
     "data": {
      "text/plain": [
       "(tensor([-0.0000, -1.1532, -0.0000, -0.9048, -0.0000], grad_fn=<MulBackward0>),\n",
       " tensor([0., 2., 0., 2., 0.]))"
      ]
     },
     "execution_count": 24,
     "metadata": {},
     "output_type": "execute_result"
    }
   ],
   "source": [
    "m.train()\n",
    "l = m(x)\n",
    "l.sum().backward()\n",
    "l, x.grad"
   ]
  },
  {
   "cell_type": "code",
   "execution_count": 25,
   "metadata": {},
   "outputs": [
    {
     "data": {
      "text/plain": [
       "tensor([-1.0541, -0.5766, -1.7516, -0.4524, -0.6323], requires_grad=True)"
      ]
     },
     "execution_count": 25,
     "metadata": {},
     "output_type": "execute_result"
    }
   ],
   "source": [
    "m.eval()\n",
    "m(x)"
   ]
  },
  {
   "cell_type": "code",
   "execution_count": 26,
   "metadata": {},
   "outputs": [
    {
     "data": {
      "text/plain": [
       "False"
      ]
     },
     "execution_count": 26,
     "metadata": {},
     "output_type": "execute_result"
    }
   ],
   "source": [
    "m.training"
   ]
  },
  {
   "cell_type": "code",
   "execution_count": 27,
   "metadata": {},
   "outputs": [
    {
     "name": "stdout",
     "output_type": "stream",
     "text": [
      "epoch 0 train 0.255 val 0.270 test 0.283\n",
      "epoch 1 train 0.214 val 0.230 test 0.217\n",
      "epoch 2 train 0.164 val 0.195 test 0.196\n",
      "epoch 3 train 0.151 val 0.197 test 0.190\n",
      "epoch 4 train 0.133 val 0.176 test 0.171\n",
      "epoch 5 train 0.146 val 0.173 test 0.154\n",
      "epoch 6 train 0.124 val 0.180 test 0.188\n",
      "epoch 7 train 0.123 val 0.149 test 0.163\n",
      "epoch 8 train 0.142 val 0.156 test 0.166\n",
      "epoch 9 train 0.135 val 0.162 test 0.147\n",
      "epoch 10 train 0.112 val 0.158 test 0.131\n",
      "epoch 11 train 0.114 val 0.150 test 0.152\n",
      "epoch 12 train 0.111 val 0.132 test 0.162\n",
      "epoch 13 train 0.114 val 0.145 test 0.134\n",
      "epoch 14 train 0.107 val 0.145 test 0.145\n",
      "epoch 15 train 0.101 val 0.146 test 0.152\n",
      "epoch 16 train 0.099 val 0.145 test 0.143\n",
      "epoch 17 train 0.090 val 0.160 test 0.164\n",
      "epoch 18 train 0.086 val 0.141 test 0.145\n",
      "epoch 19 train 0.098 val 0.156 test 0.141\n"
     ]
    }
   ],
   "source": [
    "model = nn.Sequential(\n",
    "    nn.Linear(784, 30, bias=False), nn.LayerNorm(30), nn.ReLU(), nn.Dropout(0.2),\n",
    "    nn.Linear( 30, 20, bias=False), nn.LayerNorm(20), nn.ReLU(), nn.Dropout(0.2),\n",
    "    nn.Linear( 20, 10)\n",
    ")\n",
    "\n",
    "loss['mlp_relu_layer_dropout'] = train_model(model, optim.Adam(model.parameters(), lr=0.01), epochs=20)"
   ]
  },
  {
   "cell_type": "markdown",
   "metadata": {},
   "source": [
    "### 惩罚项"
   ]
  },
  {
   "cell_type": "code",
   "execution_count": 28,
   "metadata": {},
   "outputs": [
    {
     "name": "stdout",
     "output_type": "stream",
     "text": [
      "epoch 0 train 0.279 val 0.294 test 0.289\n",
      "epoch 1 train 0.231 val 0.245 test 0.233\n",
      "epoch 2 train 0.220 val 0.245 test 0.226\n",
      "epoch 3 train 0.269 val 0.277 test 0.261\n",
      "epoch 4 train 0.240 val 0.233 test 0.230\n",
      "epoch 5 train 0.241 val 0.223 test 0.224\n",
      "epoch 6 train 0.222 val 0.237 test 0.219\n",
      "epoch 7 train 0.221 val 0.228 test 0.224\n",
      "epoch 8 train 0.224 val 0.277 test 0.249\n",
      "epoch 9 train 0.204 val 0.223 test 0.210\n",
      "epoch 10 train 0.242 val 0.249 test 0.235\n",
      "epoch 11 train 0.233 val 0.245 test 0.232\n",
      "epoch 12 train 0.208 val 0.223 test 0.209\n",
      "epoch 13 train 0.211 val 0.228 test 0.209\n",
      "epoch 14 train 0.207 val 0.226 test 0.214\n",
      "epoch 15 train 0.221 val 0.222 test 0.216\n",
      "epoch 16 train 0.211 val 0.234 test 0.220\n",
      "epoch 17 train 0.207 val 0.216 test 0.220\n",
      "epoch 18 train 0.257 val 0.269 test 0.253\n",
      "epoch 19 train 0.239 val 0.243 test 0.224\n"
     ]
    }
   ],
   "source": [
    "model = nn.Sequential(\n",
    "    nn.Linear(784, 30, bias=False), nn.LayerNorm(30), nn.ReLU(),\n",
    "    nn.Linear( 30, 20, bias=False), nn.LayerNorm(20), nn.ReLU(),\n",
    "    nn.Linear( 20, 10)\n",
    ")\n",
    "\n",
    "_ = train_model(model, optim.Adam(model.parameters(), lr=0.01), epochs=20, penalty=True)"
   ]
  },
  {
   "cell_type": "code",
   "execution_count": 29,
   "metadata": {},
   "outputs": [
    {
     "data": {
      "text/plain": [
       "{'train': {'loss': 0.21983841061592102, 'acc': 0.9375999569892883},\n",
       " 'val': {'loss': 0.25200214982032776, 'acc': 0.9314000010490417},\n",
       " 'test': {'loss': 0.22753456234931946, 'acc': 0.9362000226974487}}"
      ]
     },
     "execution_count": 29,
     "metadata": {},
     "output_type": "execute_result"
    }
   ],
   "source": [
    "estimate_loss(model)"
   ]
  }
 ],
 "metadata": {
  "kernelspec": {
   "display_name": "Python 3",
   "language": "python",
   "name": "python3"
  },
  "language_info": {
   "codemirror_mode": {
    "name": "ipython",
    "version": 3
   },
   "file_extension": ".py",
   "mimetype": "text/x-python",
   "name": "python",
   "nbconvert_exporter": "python",
   "pygments_lexer": "ipython3",
   "version": "3.9.19"
  }
 },
 "nbformat": 4,
 "nbformat_minor": 2
}
