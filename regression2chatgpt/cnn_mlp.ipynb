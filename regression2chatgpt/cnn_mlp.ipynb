{
 "cells": [
  {
   "cell_type": "code",
   "execution_count": 1,
   "metadata": {},
   "outputs": [
    {
     "data": {
      "text/plain": [
       "<torch._C.Generator at 0x10705fd10>"
      ]
     },
     "execution_count": 1,
     "metadata": {},
     "output_type": "execute_result"
    }
   ],
   "source": [
    "import torch\n",
    "import torch.nn as nn\n",
    "import torch.nn.functional as F\n",
    "import torch.optim as optim\n",
    "from torch.utils.data import DataLoader, random_split\n",
    "from torchvision import datasets\n",
    "import torchvision.transforms as transforms\n",
    "import matplotlib.pyplot as plt\n",
    "\n",
    "%matplotlib inline\n",
    "\n",
    "torch.manual_seed(12046)"
   ]
  },
  {
   "cell_type": "code",
   "execution_count": 2,
   "metadata": {},
   "outputs": [
    {
     "data": {
      "text/plain": [
       "(50000, 10000, 10000)"
      ]
     },
     "execution_count": 2,
     "metadata": {},
     "output_type": "execute_result"
    }
   ],
   "source": [
    "# 准备数据\n",
    "dataset = datasets.MNIST(root='./data', train=True, download=True, transform=transforms.ToTensor())\n",
    "# 将数据划分成训练集、验证集、测试集\n",
    "train_set, val_set = random_split(dataset, [50000, 10000])\n",
    "test_set = datasets.MNIST(root='./data', train=False, download=True, transform=transforms.ToTensor())\n",
    "len(train_set), len(val_set), len(test_set)"
   ]
  },
  {
   "cell_type": "code",
   "execution_count": 3,
   "metadata": {},
   "outputs": [
    {
     "data": {
      "text/plain": [
       "torch.Size([1, 28, 28])"
      ]
     },
     "execution_count": 3,
     "metadata": {},
     "output_type": "execute_result"
    }
   ],
   "source": [
    "x, y = dataset[21]\n",
    "x.shape"
   ]
  },
  {
   "cell_type": "code",
   "execution_count": 4,
   "metadata": {},
   "outputs": [
    {
     "data": {
      "text/plain": [
       "<matplotlib.image.AxesImage at 0x16a32f520>"
      ]
     },
     "execution_count": 4,
     "metadata": {},
     "output_type": "execute_result"
    },
    {
     "data": {
      "image/png": "[encoded data removed]",
      "text/plain": [
       "<Figure size 640x480 with 1 Axes>"
      ]
     },
     "metadata": {},
     "output_type": "display_data"
    }
   ],
   "source": [
    "plt.imshow(x.squeeze(0).numpy(), cmap=plt.cm.binary)"
   ]
  },
  {
   "cell_type": "code",
   "execution_count": 5,
   "metadata": {},
   "outputs": [],
   "source": [
    "# 构建数据读取器\n",
    "train_loader = DataLoader(train_set, batch_size=500, shuffle=True)\n",
    "val_loader = DataLoader(val_set, batch_size=500, shuffle=True)\n",
    "test_loader = DataLoader(test_set, batch_size=500, shuffle=True)"
   ]
  },
  {
   "cell_type": "code",
   "execution_count": 6,
   "metadata": {},
   "outputs": [
    {
     "data": {
      "text/plain": [
       "(torch.Size([500, 1, 28, 28]), torch.Size([500]), torch.Size([500, 784]))"
      ]
     },
     "execution_count": 6,
     "metadata": {},
     "output_type": "execute_result"
    }
   ],
   "source": [
    "# 获取一个批量的数据\n",
    "x, y = next(iter(train_loader))\n",
    "x.shape, y.shape, x.view(x.shape[0], -1).shape"
   ]
  },
  {
   "cell_type": "code",
   "execution_count": 7,
   "metadata": {},
   "outputs": [],
   "source": [
    "# 两种常见实现方式\n",
    "## 自由度更大的实现方式\n",
    "class MLP(nn.Module):\n",
    "\n",
    "  def __init__(self):\n",
    "    super().__init__()\n",
    "    self.hidden1 = nn.Linear(784, 30)\n",
    "    self.hidden2 = nn.Linear(30, 20)\n",
    "    self.out = nn.Linear(20, 10)\n",
    "  \n",
    "  def forward(self, X):\n",
    "    '''\n",
    "    多层感知器的前向传播\n",
    "    参数\n",
    "    ____\n",
    "    x: torch.FloatTensor, 形状为(B, 784)，其中B表示批量数据的大小\n",
    "    '''\n",
    "    x = F.sigmoid(self.hidden1(x))\n",
    "    x = F.sigmoid(self.hidden2(x))\n",
    "    x = self.out(x)\n",
    "    return x\n",
    "  \n",
    "model = MLP()\n",
    "\n",
    "## 更简洁的实现方式\n",
    "model = nn.Sequential(\n",
    "  nn.Linear(784, 30), nn.Sigmoid(),\n",
    "  nn.Linear(30, 20), nn.Sigmoid(),\n",
    "  nn.Linear(20, 10)\n",
    ")"
   ]
  },
  {
   "cell_type": "code",
   "execution_count": 8,
   "metadata": {},
   "outputs": [],
   "source": [
    "eval_iters = 10\n",
    "\n",
    "def estimate_loss(model):\n",
    "  re = {}\n",
    "  # 将模型切换为评估模式\n",
    "  model.eval()\n",
    "  re['train'] = _loss(model, train_loader)\n",
    "  re['val'] = _loss(model, val_loader)\n",
    "  re['test'] = _loss(model, test_loader)\n",
    "  # 将模型切换为训练模式\n",
    "  model.train()\n",
    "  return re\n",
    "\n",
    "@torch.no_grad()\n",
    "def _loss(model, dataloader):\n",
    "  # 估计模型效果\n",
    "  loss = []\n",
    "  acc = []\n",
    "  data_iter = iter(dataloader)\n",
    "  for t in range(eval_iters):\n",
    "    inputs, labels = next(data_iter)\n",
    "    # inputs: (500, 1, 28, 28)\n",
    "    # labels: (500)\n",
    "    B, C, H, W = inputs.shape\n",
    "    logits = model(inputs.view(B, -1))\n",
    "    loss.append(F.cross_entropy(logits, labels))\n",
    "    # preds = torch.argmax(F.softmax(logits, dim=-1), dim=-1)\n",
    "    preds = torch.argmax(logits, dim=-1)\n",
    "    acc.append((preds == labels).sum() / B)\n",
    "  re = {\n",
    "    'loss': torch.tensor(loss).mean().item(),\n",
    "    'acc': torch.tensor(acc).mean().item()\n",
    "  }\n",
    "  return re"
   ]
  },
  {
   "cell_type": "markdown",
   "metadata": {},
   "source": [
    "运行结果大概是\n",
    "\n",
    "```\n",
    "{'train': {'loss': 2.3977837562561035, 'acc': 0.10039999336004257},\n",
    " 'val': {'loss': 2.40299916267395, 'acc': 0.1095999926328659},\n",
    " 'test': {'loss': 2.3904480934143066, 'acc': 0.10520000755786896}}\n",
    "```\n",
    "\n",
    "这里符合预期，10个数，随机选择概率是10%"
   ]
  },
  {
   "cell_type": "code",
   "execution_count": 9,
   "metadata": {},
   "outputs": [
    {
     "data": {
      "text/plain": [
       "{'train': {'loss': 2.3977837562561035, 'acc': 0.10039999336004257},\n",
       " 'val': {'loss': 2.40299916267395, 'acc': 0.1095999926328659},\n",
       " 'test': {'loss': 2.3904480934143066, 'acc': 0.10520000755786896}}"
      ]
     },
     "execution_count": 9,
     "metadata": {},
     "output_type": "execute_result"
    }
   ],
   "source": [
    "estimate_loss(model)"
   ]
  },
  {
   "cell_type": "code",
   "execution_count": 10,
   "metadata": {},
   "outputs": [],
   "source": [
    "def train_model(model, optimizer, epochs=10, penalty=False):\n",
    "  lossi = []\n",
    "  for e in range(epochs):\n",
    "    for data in train_loader:\n",
    "      inputs, labels = data\n",
    "      B, C, H, W = inputs.shape\n",
    "      logits = model(inputs.view(B, -1))\n",
    "      loss = F.cross_entropy(logits, labels)\n",
    "      lossi.append(loss.item())\n",
    "      if penalty:\n",
    "        w = torch.cat([p.view(-1) for p in model.parameters()])\n",
    "        loss += 0.001 * w.abs().sum() + 0.002 * w.square().sum()\n",
    "      optimizer.zero_grad()\n",
    "      loss.backward()\n",
    "      optimizer.step()\n",
    "    stats = estimate_loss(model)\n",
    "    train_loss = f'{stats[\"train\"][\"loss\"]:.3f}'\n",
    "    val_loss = f'{stats[\"val\"][\"loss\"]:.3f}'\n",
    "    test_loss = f'{stats[\"test\"][\"loss\"]:.3f}'\n",
    "    print(f'epoch {e} train {train_loss} val {val_loss} test {test_loss}')\n",
    "  return lossi\n"
   ]
  },
  {
   "cell_type": "code",
   "execution_count": 11,
   "metadata": {},
   "outputs": [],
   "source": [
    "loss = {}"
   ]
  },
  {
   "cell_type": "code",
   "execution_count": 12,
   "metadata": {},
   "outputs": [
    {
     "name": "stdout",
     "output_type": "stream",
     "text": [
      "epoch 0 train 2.309 val 2.307 test 2.309\n",
      "epoch 1 train 2.302 val 2.304 test 2.303\n",
      "epoch 2 train 2.301 val 2.300 test 2.299\n",
      "epoch 3 train 2.299 val 2.299 test 2.300\n",
      "epoch 4 train 2.298 val 2.299 test 2.297\n",
      "epoch 5 train 2.299 val 2.299 test 2.297\n",
      "epoch 6 train 2.298 val 2.299 test 2.297\n",
      "epoch 7 train 2.295 val 2.297 test 2.296\n",
      "epoch 8 train 2.296 val 2.298 test 2.296\n",
      "epoch 9 train 2.295 val 2.295 test 2.296\n"
     ]
    }
   ],
   "source": [
    "model = nn.Sequential(\n",
    "  nn.Linear(784, 30), nn.Sigmoid(),\n",
    "  nn.Linear(30, 20), nn.Sigmoid(),\n",
    "  nn.Linear(20, 10)\n",
    ")\n",
    "\n",
    "loss['mlp'] = train_model(model, optim.SGD(model.parameters(), lr=0.01))"
   ]
  },
  {
   "cell_type": "markdown",
   "metadata": {},
   "source": [
    "### ReLU"
   ]
  },
  {
   "cell_type": "code",
   "execution_count": 13,
   "metadata": {},
   "outputs": [
    {
     "name": "stdout",
     "output_type": "stream",
     "text": [
      "epoch 0 train 2.280 val 2.280 test 2.279\n",
      "epoch 1 train 2.246 val 2.243 test 2.243\n",
      "epoch 2 train 2.190 val 2.189 test 2.187\n",
      "epoch 3 train 2.099 val 2.094 test 2.090\n",
      "epoch 4 train 1.956 val 1.951 test 1.950\n",
      "epoch 5 train 1.769 val 1.756 test 1.751\n",
      "epoch 6 train 1.522 val 1.524 test 1.514\n",
      "epoch 7 train 1.293 val 1.297 test 1.274\n",
      "epoch 8 train 1.100 val 1.102 test 1.093\n",
      "epoch 9 train 0.977 val 0.961 test 0.951\n"
     ]
    }
   ],
   "source": [
    "model = nn.Sequential(\n",
    "  nn.Linear(784, 30), nn.ReLU(),\n",
    "  nn.Linear(30, 20), nn.ReLU(),\n",
    "  nn.Linear(20, 10)\n",
    ")\n",
    "\n",
    "loss['mlp_relu'] = train_model(model, optim.SGD(model.parameters(), lr=0.01))"
   ]
  },
  {
   "cell_type": "markdown",
   "metadata": {},
   "source": [
    "### 归一化"
   ]
  },
  {
   "cell_type": "code",
   "execution_count": 14,
   "metadata": {},
   "outputs": [
    {
     "name": "stdout",
     "output_type": "stream",
     "text": [
      "epoch 0 train 1.553 val 1.556 test 1.553\n",
      "epoch 1 train 1.102 val 1.118 test 1.104\n",
      "epoch 2 train 0.818 val 0.806 test 0.790\n",
      "epoch 3 train 0.632 val 0.604 test 0.597\n",
      "epoch 4 train 0.499 val 0.487 test 0.479\n",
      "epoch 5 train 0.410 val 0.418 test 0.416\n",
      "epoch 6 train 0.353 val 0.366 test 0.361\n",
      "epoch 7 train 0.321 val 0.323 test 0.315\n",
      "epoch 8 train 0.278 val 0.306 test 0.302\n",
      "epoch 9 train 0.267 val 0.285 test 0.265\n"
     ]
    }
   ],
   "source": [
    "model = nn.Sequential(\n",
    "    nn.Linear(784, 30, bias=False), nn.LayerNorm(30), nn.ReLU(),\n",
    "    nn.Linear( 30, 20, bias=False), nn.LayerNorm(20), nn.ReLU(),\n",
    "    nn.Linear( 20, 10)\n",
    ")\n",
    "\n",
    "loss['mlp_relu_layer'] = train_model(model, optim.SGD(model.parameters(), lr=0.01))"
   ]
  },
  {
   "cell_type": "code",
   "execution_count": 15,
   "metadata": {},
   "outputs": [
    {
     "data": {
      "image/png": "[encoded data removed]",
      "text/plain": [
       "<Figure size 640x480 with 1 Axes>"
      ]
     },
     "metadata": {},
     "output_type": "display_data"
    }
   ],
   "source": [
    "for i in ['mlp', 'mlp_relu', 'mlp_relu_layer']:\n",
    "  plt.plot(torch.tensor(loss[i]).view(-1, 10).mean(dim=-1), label=i)\n",
    "plt.legend()\n",
    "plt.show()"
   ]
  },
  {
   "cell_type": "code",
   "execution_count": 16,
   "metadata": {},
   "outputs": [
    {
     "name": "stdout",
     "output_type": "stream",
     "text": [
      "epoch 0 train 0.200 val 0.210 test 0.204\n",
      "epoch 1 train 0.148 val 0.173 test 0.190\n",
      "epoch 2 train 0.113 val 0.152 test 0.157\n",
      "epoch 3 train 0.101 val 0.149 test 0.129\n",
      "epoch 4 train 0.085 val 0.138 test 0.132\n",
      "epoch 5 train 0.074 val 0.125 test 0.112\n",
      "epoch 6 train 0.087 val 0.148 test 0.141\n",
      "epoch 7 train 0.055 val 0.141 test 0.131\n",
      "epoch 8 train 0.053 val 0.129 test 0.102\n",
      "epoch 9 train 0.054 val 0.119 test 0.108\n",
      "epoch 10 train 0.049 val 0.134 test 0.120\n",
      "epoch 11 train 0.037 val 0.143 test 0.121\n",
      "epoch 12 train 0.049 val 0.131 test 0.123\n",
      "epoch 13 train 0.048 val 0.132 test 0.127\n",
      "epoch 14 train 0.042 val 0.133 test 0.126\n",
      "epoch 15 train 0.030 val 0.118 test 0.114\n",
      "epoch 16 train 0.024 val 0.123 test 0.125\n",
      "epoch 17 train 0.026 val 0.124 test 0.116\n",
      "epoch 18 train 0.025 val 0.103 test 0.132\n",
      "epoch 19 train 0.031 val 0.139 test 0.139\n"
     ]
    }
   ],
   "source": [
    "model = nn.Sequential(\n",
    "    nn.Linear(784, 30, bias=False), nn.LayerNorm(30), nn.ReLU(),\n",
    "    nn.Linear( 30, 20, bias=False), nn.LayerNorm(20), nn.ReLU(),\n",
    "    nn.Linear( 20, 10)\n",
    ")\n",
    "\n",
    "# 增加epochs，模型过拟合\n",
    "loss['mlp_relu_layer'] = train_model(model, optim.Adam(model.parameters(), lr=0.01), epochs=20)"
   ]
  },
  {
   "cell_type": "markdown",
   "metadata": {},
   "source": [
    "### Dropout"
   ]
  },
  {
   "cell_type": "code",
   "execution_count": 17,
   "metadata": {},
   "outputs": [],
   "source": [
    "m = nn.Dropout(0.5)\n",
    "x = torch.randn(5, requires_grad=True)"
   ]
  },
  {
   "cell_type": "code",
   "execution_count": 18,
   "metadata": {},
   "outputs": [
    {
     "data": {
      "text/plain": [
       "tensor([-1.3283, -1.9110, -0.5863,  1.6094,  0.3471], requires_grad=True)"
      ]
     },
     "execution_count": 18,
     "metadata": {},
     "output_type": "execute_result"
    }
   ],
   "source": [
    "x"
   ]
  },
  {
   "cell_type": "code",
   "execution_count": 19,
   "metadata": {},
   "outputs": [
    {
     "data": {
      "text/plain": [
       "(tensor([-2.6567, -3.8221, -0.0000,  0.0000,  0.6942], grad_fn=<MulBackward0>),\n",
       " tensor([2., 2., 0., 0., 2.]))"
      ]
     },
     "execution_count": 19,
     "metadata": {},
     "output_type": "execute_result"
    }
   ],
   "source": [
    "m.train()\n",
    "l = m(x)\n",
    "l.sum().backward()\n",
    "l, x.grad"
   ]
  },
  {
   "cell_type": "code",
   "execution_count": 20,
   "metadata": {},
   "outputs": [
    {
     "data": {
      "text/plain": [
       "tensor([-1.3283, -1.9110, -0.5863,  1.6094,  0.3471], requires_grad=True)"
      ]
     },
     "execution_count": 20,
     "metadata": {},
     "output_type": "execute_result"
    }
   ],
   "source": [
    "m.eval()\n",
    "m(x)"
   ]
  },
  {
   "cell_type": "code",
   "execution_count": 21,
   "metadata": {},
   "outputs": [
    {
     "data": {
      "text/plain": [
       "False"
      ]
     },
     "execution_count": 21,
     "metadata": {},
     "output_type": "execute_result"
    }
   ],
   "source": [
    "m.training"
   ]
  },
  {
   "cell_type": "code",
   "execution_count": 22,
   "metadata": {},
   "outputs": [
    {
     "name": "stdout",
     "output_type": "stream",
     "text": [
      "epoch 0 train 0.250 val 0.257 test 0.253\n",
      "epoch 1 train 0.205 val 0.202 test 0.210\n",
      "epoch 2 train 0.169 val 0.198 test 0.203\n",
      "epoch 3 train 0.154 val 0.185 test 0.181\n",
      "epoch 4 train 0.148 val 0.166 test 0.192\n",
      "epoch 5 train 0.137 val 0.172 test 0.177\n",
      "epoch 6 train 0.139 val 0.170 test 0.177\n",
      "epoch 7 train 0.122 val 0.181 test 0.168\n",
      "epoch 8 train 0.110 val 0.164 test 0.163\n",
      "epoch 9 train 0.142 val 0.166 test 0.169\n",
      "epoch 10 train 0.129 val 0.162 test 0.172\n",
      "epoch 11 train 0.102 val 0.153 test 0.165\n",
      "epoch 12 train 0.134 val 0.166 test 0.172\n",
      "epoch 13 train 0.095 val 0.160 test 0.151\n",
      "epoch 14 train 0.126 val 0.168 test 0.149\n",
      "epoch 15 train 0.102 val 0.144 test 0.144\n",
      "epoch 16 train 0.103 val 0.152 test 0.165\n",
      "epoch 17 train 0.108 val 0.174 test 0.160\n",
      "epoch 18 train 0.099 val 0.160 test 0.160\n",
      "epoch 19 train 0.103 val 0.155 test 0.166\n"
     ]
    }
   ],
   "source": [
    "model = nn.Sequential(\n",
    "    nn.Linear(784, 30, bias=False), nn.LayerNorm(30), nn.ReLU(), nn.Dropout(0.2),\n",
    "    nn.Linear( 30, 20, bias=False), nn.LayerNorm(20), nn.ReLU(), nn.Dropout(0.2),\n",
    "    nn.Linear( 20, 10)\n",
    ")\n",
    "\n",
    "loss['mlp_relu_layer_dropout'] = train_model(model, optim.Adam(model.parameters(), lr=0.01), epochs=20)"
   ]
  },
  {
   "cell_type": "markdown",
   "metadata": {},
   "source": [
    "### 惩罚项"
   ]
  },
  {
   "cell_type": "code",
   "execution_count": 23,
   "metadata": {},
   "outputs": [
    {
     "name": "stdout",
     "output_type": "stream",
     "text": [
      "epoch 0 train 0.245 val 0.273 test 0.272\n",
      "epoch 1 train 0.247 val 0.248 test 0.249\n",
      "epoch 2 train 0.210 val 0.243 test 0.232\n",
      "epoch 3 train 0.202 val 0.221 test 0.200\n",
      "epoch 4 train 0.234 val 0.234 test 0.232\n",
      "epoch 5 train 0.218 val 0.213 test 0.212\n",
      "epoch 6 train 0.240 val 0.220 test 0.224\n",
      "epoch 7 train 0.216 val 0.253 test 0.226\n",
      "epoch 8 train 0.206 val 0.205 test 0.197\n",
      "epoch 9 train 0.178 val 0.190 test 0.180\n",
      "epoch 10 train 0.186 val 0.186 test 0.184\n",
      "epoch 11 train 0.189 val 0.204 test 0.196\n",
      "epoch 12 train 0.184 val 0.215 test 0.188\n",
      "epoch 13 train 0.197 val 0.208 test 0.218\n",
      "epoch 14 train 0.195 val 0.212 test 0.202\n",
      "epoch 15 train 0.184 val 0.197 test 0.205\n",
      "epoch 16 train 0.220 val 0.232 test 0.217\n",
      "epoch 17 train 0.179 val 0.202 test 0.196\n",
      "epoch 18 train 0.213 val 0.226 test 0.220\n",
      "epoch 19 train 0.214 val 0.217 test 0.199\n"
     ]
    }
   ],
   "source": [
    "model = nn.Sequential(\n",
    "    nn.Linear(784, 30, bias=False), nn.LayerNorm(30), nn.ReLU(),\n",
    "    nn.Linear( 30, 20, bias=False), nn.LayerNorm(20), nn.ReLU(),\n",
    "    nn.Linear( 20, 10)\n",
    ")\n",
    "\n",
    "_ = train_model(model, optim.Adam(model.parameters(), lr=0.01), epochs=20, penalty=True)"
   ]
  },
  {
   "cell_type": "code",
   "execution_count": 24,
   "metadata": {},
   "outputs": [
    {
     "data": {
      "text/plain": [
       "{'train': {'loss': 0.20386986434459686, 'acc': 0.9462000131607056},\n",
       " 'val': {'loss': 0.20506790280342102, 'acc': 0.9427999258041382},\n",
       " 'test': {'loss': 0.19779081642627716, 'acc': 0.9431999921798706}}"
      ]
     },
     "execution_count": 24,
     "metadata": {},
     "output_type": "execute_result"
    }
   ],
   "source": [
    "estimate_loss(model)"
   ]
  }
 ],
 "metadata": {
  "kernelspec": {
   "display_name": "Python 3",
   "language": "python",
   "name": "python3"
  },
  "language_info": {
   "codemirror_mode": {
    "name": "ipython",
    "version": 3
   },
   "file_extension": ".py",
   "mimetype": "text/x-python",
   "name": "python",
   "nbconvert_exporter": "python",
   "pygments_lexer": "ipython3",
   "version": "3.9.19"
  }
 },
 "nbformat": 4,
 "nbformat_minor": 2
}
