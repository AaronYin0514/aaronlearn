{
 "cells": [
  {
   "cell_type": "markdown",
   "metadata": {},
   "source": [
    "## PaddleOCR"
   ]
  },
  {
   "cell_type": "markdown",
   "metadata": {},
   "source": [
    "安装依赖包\n",
    "\n",
    "```shell\n",
    "pip install paddlepaddle\n",
    "pip install paddleocr\n",
    "```"
   ]
  },
  {
   "cell_type": "code",
   "execution_count": 7,
   "metadata": {},
   "outputs": [
    {
     "name": "stdout",
     "output_type": "stream",
     "text": [
      "[2024/08/25 15:18:00] ppocr DEBUG: Namespace(help='==SUPPRESS==', use_gpu=False, use_xpu=False, use_npu=False, use_mlu=False, ir_optim=True, use_tensorrt=False, min_subgraph_size=15, precision='fp32', gpu_mem=500, gpu_id=0, image_dir=None, page_num=0, det_algorithm='DB', det_model_dir='/Users/aaron/.paddleocr/whl/det/ch/ch_PP-OCRv4_det_infer', det_limit_side_len=960, det_limit_type='max', det_box_type='quad', det_db_thresh=0.3, det_db_box_thresh=0.6, det_db_unclip_ratio=1.5, max_batch_size=10, use_dilation=False, det_db_score_mode='fast', det_east_score_thresh=0.8, det_east_cover_thresh=0.1, det_east_nms_thresh=0.2, det_sast_score_thresh=0.5, det_sast_nms_thresh=0.2, det_pse_thresh=0, det_pse_box_thresh=0.85, det_pse_min_area=16, det_pse_scale=1, scales=[8, 16, 32], alpha=1.0, beta=1.0, fourier_degree=5, rec_algorithm='SVTR_LCNet', rec_model_dir='/Users/aaron/.paddleocr/whl/rec/ch/ch_PP-OCRv4_rec_infer', rec_image_inverse=True, rec_image_shape='3, 48, 320', rec_batch_num=6, max_text_length=25, rec_char_dict_path='/opt/homebrew/lib/python3.12/site-packages/paddleocr/ppocr/utils/ppocr_keys_v1.txt', use_space_char=True, vis_font_path='./doc/fonts/simfang.ttf', drop_score=0.5, e2e_algorithm='PGNet', e2e_model_dir=None, e2e_limit_side_len=768, e2e_limit_type='max', e2e_pgnet_score_thresh=0.5, e2e_char_dict_path='./ppocr/utils/ic15_dict.txt', e2e_pgnet_valid_set='totaltext', e2e_pgnet_mode='fast', use_angle_cls=False, cls_model_dir='/Users/aaron/.paddleocr/whl/cls/ch_ppocr_mobile_v2.0_cls_infer', cls_image_shape='3, 48, 192', label_list=['0', '180'], cls_batch_num=6, cls_thresh=0.9, enable_mkldnn=False, cpu_threads=10, use_pdserving=False, warmup=False, sr_model_dir=None, sr_image_shape='3, 32, 128', sr_batch_num=1, draw_img_save_dir='./inference_results', save_crop_res=False, crop_res_save_dir='./output', use_mp=False, total_process_num=1, process_id=0, benchmark=False, save_log_path='./log_output/', show_log=True, use_onnx=False, return_word_box=False, output='./output', table_max_len=488, table_algorithm='TableAttn', table_model_dir=None, merge_no_span_structure=True, table_char_dict_path=None, layout_model_dir=None, layout_dict_path=None, layout_score_threshold=0.5, layout_nms_threshold=0.5, kie_algorithm='LayoutXLM', ser_model_dir=None, re_model_dir=None, use_visual_backbone=True, ser_dict_path='../train_data/XFUND/class_list_xfun.txt', ocr_order_method=None, mode='structure', image_orientation=False, layout=True, table=True, ocr=True, recovery=False, use_pdf2docx_api=False, invert=False, binarize=False, alphacolor=(255, 255, 255), lang='ch', det=True, rec=True, type='ocr', savefile=False, ocr_version='PP-OCRv4', structure_version='PP-StructureV2')\n",
      "[2024/08/25 15:18:01] ppocr DEBUG: dt_boxes num : 14, elapsed : 0.17621207237243652\n",
      "[2024/08/25 15:18:02] ppocr DEBUG: rec_res num  : 14, elapsed : 0.8113908767700195\n",
      "[[[38.0, 23.0], [95.0, 23.0], [95.0, 43.0], [38.0, 43.0]], ('16:43', 0.9825090169906616)]\n",
      "[[[384.0, 24.0], [473.0, 21.0], [473.0, 42.0], [384.0, 44.0]], ('5G99', 0.9762520790100098)]\n",
      "[[[204.0, 78.0], [292.0, 78.0], [292.0, 101.0], [204.0, 101.0]], ('潇湘妃子', 0.9988415241241455)]\n",
      "[[[98.0, 141.0], [231.0, 141.0], [231.0, 165.0], [98.0, 165.0]], ('我一会去接你', 0.9996441006660461)]\n",
      "[[[227.0, 215.0], [400.0, 215.0], [400.0, 239.0], [227.0, 239.0]], ('我到5点多再说吧', 0.9994618892669678)]\n",
      "[[[223.0, 290.0], [400.0, 290.0], [400.0, 312.0], [223.0, 312.0]], ('不下了不就做公交', 0.9953052997589111)]\n",
      "[[[225.0, 361.0], [276.0, 361.0], [276.0, 381.0], [225.0, 381.0]], ('16:16', 0.9752112627029419)]\n",
      "[[[98.0, 418.0], [408.0, 418.0], [408.0, 444.0], [98.0, 444.0]], ('去接你吧，刚刚看了，青浦雷电', 0.9988182783126831)]\n",
      "[[[97.0, 444.0], [163.0, 444.0], [163.0, 472.0], [97.0, 472.0]], ('预警了', 0.9994263648986816)]\n",
      "[[[362.0, 520.0], [391.0, 520.0], [391.0, 533.0], [362.0, 533.0]], ('我的位置', 0.9877175092697144)]\n",
      "[[[362.0, 533.0], [394.0, 533.0], [394.0, 555.0], [362.0, 555.0]], ('36°', 0.9611771702766418)]\n",
      "[[[358.0, 552.0], [392.0, 552.0], [392.0, 569.0], [358.0, 569.0]], ('138127', 0.6957478523254395)]\n",
      "[[[354.0, 719.0], [403.0, 719.0], [403.0, 750.0], [354.0, 750.0]], ('哈哈', 0.9990749359130859)]\n"
     ]
    }
   ],
   "source": [
    "from paddleocr import PaddleOCR, draw_ocr\n",
    "\n",
    "# Paddleocr目前支持的多语言语种可以通过修改lang参数进行切换\n",
    "# 例如`ch`, `en`, `fr`, `german`, `korean`, `japan`\n",
    "ocr = PaddleOCR()  # need to run only once to download and load model into memory\n",
    "img_path = '/Users/aaron/Downloads/IMG_3587.JPG'\n",
    "result = ocr.ocr(img_path, cls=False)\n",
    "for idx in range(len(result)):\n",
    "    res = result[idx]\n",
    "    for line in res:\n",
    "        print(line)"
   ]
  },
  {
   "cell_type": "code",
   "execution_count": 8,
   "metadata": {},
   "outputs": [],
   "source": [
    "# 显示结果\n",
    "from PIL import Image\n",
    "result = result[0]\n",
    "image = Image.open(img_path).convert('RGB')\n",
    "boxes = [line[0] for line in result]\n",
    "txts = [line[1][0] for line in result]\n",
    "scores = [line[1][1] for line in result]\n",
    "im_show = draw_ocr(image, boxes, txts, scores, font_path='./fonts/simfang.ttf')\n",
    "im_show = Image.fromarray(im_show)\n",
    "im_show.save('./result.jpg')"
   ]
  }
 ],
 "metadata": {
  "kernelspec": {
   "display_name": "Python 3",
   "language": "python",
   "name": "python3"
  },
  "language_info": {
   "codemirror_mode": {
    "name": "ipython",
    "version": 3
   },
   "file_extension": ".py",
   "mimetype": "text/x-python",
   "name": "python",
   "nbconvert_exporter": "python",
   "pygments_lexer": "ipython3",
   "version": "3.12.4"
  }
 },
 "nbformat": 4,
 "nbformat_minor": 2
}
